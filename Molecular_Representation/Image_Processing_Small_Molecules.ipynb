{
 "cells": [
  {
   "cell_type": "code",
   "execution_count": 5,
   "id": "fundamental-debut",
   "metadata": {},
   "outputs": [],
   "source": [
    "import pandas as pd\n",
    "from rdkit.Chem import PandasTools\n",
    "from rdkit import Chem\n",
    "from rdkit.Chem import Draw\n",
    "from rdkit.Chem import AllChem"
   ]
  },
  {
   "cell_type": "code",
   "execution_count": 3,
   "id": "ae9d622b",
   "metadata": {},
   "outputs": [],
   "source": [
    "df = pd.read_csv('sample.csv')"
   ]
  },
  {
   "cell_type": "code",
   "execution_count": 4,
   "id": "finite-raleigh",
   "metadata": {},
   "outputs": [
    {
     "data": {
      "text/html": [
       "<div>\n",
       "<style scoped>\n",
       "    .dataframe tbody tr th:only-of-type {\n",
       "        vertical-align: middle;\n",
       "    }\n",
       "\n",
       "    .dataframe tbody tr th {\n",
       "        vertical-align: top;\n",
       "    }\n",
       "\n",
       "    .dataframe thead th {\n",
       "        text-align: right;\n",
       "    }\n",
       "</style>\n",
       "<table border=\"1\" class=\"dataframe\">\n",
       "  <thead>\n",
       "    <tr style=\"text-align: right;\">\n",
       "      <th></th>\n",
       "      <th>cid</th>\n",
       "      <th>smiles</th>\n",
       "    </tr>\n",
       "  </thead>\n",
       "  <tbody>\n",
       "    <tr>\n",
       "      <th>0</th>\n",
       "      <td>89819869</td>\n",
       "      <td>B(C1=C2C(=CC(=C1O)O)C3=C(O2)CCC4C3(CCCC4(C)C)C...</td>\n",
       "    </tr>\n",
       "    <tr>\n",
       "      <th>1</th>\n",
       "      <td>44413107</td>\n",
       "      <td>C1=C(SC(=C1)C2=C(C(=CC(=C2)F)F)O)C=C3C(=O)NC(=...</td>\n",
       "    </tr>\n",
       "    <tr>\n",
       "      <th>2</th>\n",
       "      <td>71272765</td>\n",
       "      <td>C1=CC(=C(C(=C1)Cl)Cl)CC2=C(NN3C2=NC(=CC3=O)C4=...</td>\n",
       "    </tr>\n",
       "    <tr>\n",
       "      <th>3</th>\n",
       "      <td>60155725</td>\n",
       "      <td>C1=CC(=C(C(=C1)F)F)NS(=O)(=O)C2=C(C=CC(=C2)C3=...</td>\n",
       "    </tr>\n",
       "    <tr>\n",
       "      <th>4</th>\n",
       "      <td>60155726</td>\n",
       "      <td>C1=CC(=C(C(=C1)F)F)NS(=O)(=O)C2=C(C=CC(=C2)C3=...</td>\n",
       "    </tr>\n",
       "    <tr>\n",
       "      <th>5</th>\n",
       "      <td>60155806</td>\n",
       "      <td>C1=CC(=C(C(=C1)F)F)NS(=O)(=O)C2=C(C=CC(=C2)C3=...</td>\n",
       "    </tr>\n",
       "    <tr>\n",
       "      <th>6</th>\n",
       "      <td>11515474</td>\n",
       "      <td>C1=CC(=C(C(=C1)[N+](=O)[O-])O)C2=CC=C(O2)C=C3C...</td>\n",
       "    </tr>\n",
       "    <tr>\n",
       "      <th>7</th>\n",
       "      <td>11652531</td>\n",
       "      <td>C1=CC(=C(C=C1C#N)C2=CC=C(O2)C=C3C(=O)NC(=O)S3)O</td>\n",
       "    </tr>\n",
       "    <tr>\n",
       "      <th>8</th>\n",
       "      <td>76311317</td>\n",
       "      <td>C1=CC(=C(C=C1C#N)S(=O)(=O)C2=NC(=CS2)C3=C4C=C(...</td>\n",
       "    </tr>\n",
       "    <tr>\n",
       "      <th>9</th>\n",
       "      <td>76333034</td>\n",
       "      <td>C1=CC(=C(C=C1C#N)S(=O)C2=NC(=CS2)C3=C4C=C(C=CN...</td>\n",
       "    </tr>\n",
       "  </tbody>\n",
       "</table>\n",
       "</div>"
      ],
      "text/plain": [
       "        cid                                             smiles\n",
       "0  89819869  B(C1=C2C(=CC(=C1O)O)C3=C(O2)CCC4C3(CCCC4(C)C)C...\n",
       "1  44413107  C1=C(SC(=C1)C2=C(C(=CC(=C2)F)F)O)C=C3C(=O)NC(=...\n",
       "2  71272765  C1=CC(=C(C(=C1)Cl)Cl)CC2=C(NN3C2=NC(=CC3=O)C4=...\n",
       "3  60155725  C1=CC(=C(C(=C1)F)F)NS(=O)(=O)C2=C(C=CC(=C2)C3=...\n",
       "4  60155726  C1=CC(=C(C(=C1)F)F)NS(=O)(=O)C2=C(C=CC(=C2)C3=...\n",
       "5  60155806  C1=CC(=C(C(=C1)F)F)NS(=O)(=O)C2=C(C=CC(=C2)C3=...\n",
       "6  11515474  C1=CC(=C(C(=C1)[N+](=O)[O-])O)C2=CC=C(O2)C=C3C...\n",
       "7  11652531    C1=CC(=C(C=C1C#N)C2=CC=C(O2)C=C3C(=O)NC(=O)S3)O\n",
       "8  76311317  C1=CC(=C(C=C1C#N)S(=O)(=O)C2=NC(=CS2)C3=C4C=C(...\n",
       "9  76333034  C1=CC(=C(C=C1C#N)S(=O)C2=NC(=CS2)C3=C4C=C(C=CN..."
      ]
     },
     "execution_count": 4,
     "metadata": {},
     "output_type": "execute_result"
    }
   ],
   "source": [
    "df"
   ]
  },
  {
   "cell_type": "code",
   "execution_count": null,
   "id": "f058deca",
   "metadata": {},
   "outputs": [],
   "source": []
  },
  {
   "cell_type": "code",
   "execution_count": 8,
   "id": "1f4a717e",
   "metadata": {},
   "outputs": [],
   "source": [
    "# Generation of Image files by run this line of code\n",
    "# note: Put single tab space at the end of image path \n",
    "\n",
    "image_path = 'E:\\iDCNNPred\\Molecular_Representation\\ '\n",
    "list_of_paths = []\n",
    "for cid in df['cid']:\n",
    "  image_name = str(cid)\n",
    "  full_path = image_path+image_name\n",
    "  list_of_paths.append(full_path)\n",
    "\n",
    "df['paths'] = list_of_paths\n",
    "\n",
    "image_size = 200\n",
    "\n",
    "df.reset_index(drop=True, inplace=True) \n",
    "\n",
    "for n in range(len(df[\"paths\"])):\n",
    "    full_path = df[\"paths\"][n]\n",
    "    mol = Chem.MolFromSmiles(df[\"smiles\"][n])\n",
    "    if mol is None:\n",
    "        print((\"Unable to read original smiles\"+full_path))\n",
    "    else:\n",
    "        AllChem.Compute2DCoords(mol)\n",
    "        Draw.MolToFile(mol, full_path, size=(image_size,image_size), fitImage=False, imageType='png')"
   ]
  },
  {
   "cell_type": "code",
   "execution_count": null,
   "id": "1baa9d75",
   "metadata": {},
   "outputs": [],
   "source": []
  },
  {
   "cell_type": "code",
   "execution_count": 9,
   "id": "bcc79df4",
   "metadata": {},
   "outputs": [
    {
     "ename": "SyntaxError",
     "evalue": "invalid syntax (1404578281.py, line 2)",
     "output_type": "error",
     "traceback": [
      "\u001b[1;36m  Cell \u001b[1;32mIn[9], line 2\u001b[1;36m\u001b[0m\n\u001b[1;33m    Dir | rename-item -newname  { $_.Name +\".png\" }\u001b[0m\n\u001b[1;37m                                ^\u001b[0m\n\u001b[1;31mSyntaxError\u001b[0m\u001b[1;31m:\u001b[0m invalid syntax\n"
     ]
    }
   ],
   "source": [
    "# run this command in microsoft powershell to convert each file into .PNG files their respective directory\n",
    "Dir | rename-item -newname  { $_.Name +\".png\" }"
   ]
  }
 ],
 "metadata": {
  "kernelspec": {
   "display_name": "Python 3 (ipykernel)",
   "language": "python",
   "name": "python3"
  },
  "language_info": {
   "codemirror_mode": {
    "name": "ipython",
    "version": 3
   },
   "file_extension": ".py",
   "mimetype": "text/x-python",
   "name": "python",
   "nbconvert_exporter": "python",
   "pygments_lexer": "ipython3",
   "version": "3.10.6"
  }
 },
 "nbformat": 4,
 "nbformat_minor": 5
}
